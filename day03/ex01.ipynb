{
 "cells": [
  {
   "cell_type": "code",
   "execution_count": 2,
   "id": "b881d605-09f1-426f-a65c-f41fccbb4ac2",
   "metadata": {},
   "outputs": [
    {
     "name": "stdout",
     "output_type": "stream",
     "text": [
      "중학생\n"
     ]
    }
   ],
   "source": [
    "age= 16\n",
    "\n",
    "if age < 8:\n",
    "    print(\"유치원\")\n",
    "elif age < 14:\n",
    "    print(\"초등학생\")\n",
    "elif age < 17:\n",
    "    print(\"중학생\")\n",
    "elif age < 20:\n",
    "    print(\"고등학생\")\n",
    "else:\n",
    "    print(\"성인\")"
   ]
  },
  {
   "cell_type": "code",
   "execution_count": 4,
   "id": "4c629a49-eb95-4911-9c1f-e6840e3ae66b",
   "metadata": {},
   "outputs": [
    {
     "name": "stdout",
     "output_type": "stream",
     "text": [
      "사과가 있습니다.\n"
     ]
    }
   ],
   "source": [
    "fruits = ['사과', '오렌지', '멜론']\n",
    "if '사과' in fruits: # 사과가 포함되어 있는지 체크\n",
    "    print(\"사과가 있습니다.\")\n",
    "else:\n",
    "    print(\"사과가 없습니다.\")"
   ]
  },
  {
   "cell_type": "code",
   "execution_count": 5,
   "id": "2f2d08d5-1f54-4d71-8c05-88d4aae8b568",
   "metadata": {},
   "outputs": [
    {
     "name": "stdout",
     "output_type": "stream",
     "text": [
      "망고가 없습니다\n"
     ]
    }
   ],
   "source": [
    "fruits = ['사과', '오렌지', '멜론']\n",
    "if '망고' not in fruits: # 망고가 포함되어 있지 않는지 체크\n",
    "    print(\"망고가 없습니다\")\n",
    "else:\n",
    "    print(\"망고가 있습니다.\")"
   ]
  },
  {
   "cell_type": "code",
   "execution_count": 6,
   "id": "f1f15293-b7ff-45a0-a974-e7441a2bd3df",
   "metadata": {},
   "outputs": [],
   "source": [
    "num = 10\n",
    "if num > 5 and num < 20:\n",
    "    pass # 아무 것도 안함"
   ]
  },
  {
   "cell_type": "code",
   "execution_count": 7,
   "id": "980f4873-db13-4748-bbc8-fb8e8fdb7aea",
   "metadata": {},
   "outputs": [],
   "source": [
    "if num > 5 and num < 20: pass #한 줄로도 작성 가능"
   ]
  },
  {
   "cell_type": "code",
   "execution_count": 8,
   "id": "9178d002-5ca8-4c78-a31a-1fa2f55a959e",
   "metadata": {},
   "outputs": [
    {
     "name": "stdout",
     "output_type": "stream",
     "text": [
      "합격\n"
     ]
    }
   ],
   "source": [
    "score = 60\n",
    "result = \"합격\" if score >=60 else \"불합격\" # 조건부 표현식\n",
    "print(result)"
   ]
  },
  {
   "cell_type": "code",
   "execution_count": 9,
   "id": "7219e28d-b7f6-488c-8221-9a6b5bf67e1d",
   "metadata": {},
   "outputs": [
    {
     "name": "stdout",
     "output_type": "stream",
     "text": [
      "돈이 있다\n"
     ]
    }
   ],
   "source": [
    "money = True;\n",
    "\n",
    "if money:\n",
    "    print(\"돈이 있다\")\n",
    "else : \n",
    "    print(\"없으니까\")"
   ]
  },
  {
   "cell_type": "code",
   "execution_count": 11,
   "id": "eb94b434-2fb0-4d0b-8b25-1b4745d3de09",
   "metadata": {},
   "outputs": [
    {
     "name": "stdout",
     "output_type": "stream",
     "text": [
      "돈이 있다\n",
      "돈이 있어\n",
      "돈돈돈\n"
     ]
    }
   ],
   "source": [
    "money = True;\n",
    "\n",
    "if money:\n",
    "    print(\"돈이 있다\")\n",
    "    print(\"돈이 있어\")\n",
    "    print(\"돈돈돈\")"
   ]
  },
  {
   "cell_type": "code",
   "execution_count": 14,
   "id": "6bb45787-addd-48d1-8e0f-3862d43693de",
   "metadata": {},
   "outputs": [
    {
     "name": "stdout",
     "output_type": "stream",
     "text": [
      "21이상\n"
     ]
    }
   ],
   "source": [
    "num = 21\n",
    "if num > 5 and num > 20:\n",
    "    print(\"21이상\")\n",
    "else :\n",
    "    print(\"20이하\")"
   ]
  },
  {
   "cell_type": "code",
   "execution_count": 18,
   "id": "36e37213-d596-4136-81fc-91ca73e8ea57",
   "metadata": {},
   "outputs": [
    {
     "name": "stdout",
     "output_type": "stream",
     "text": [
      "5이하\n"
     ]
    }
   ],
   "source": [
    "num = 5\n",
    "if num > 5 or num > 20:\n",
    "    print(\"6이상\")\n",
    "else :\n",
    "    print(\"5이하\")"
   ]
  },
  {
   "cell_type": "code",
   "execution_count": 21,
   "id": "99db3a36-2040-45c1-aa78-69194e1b694e",
   "metadata": {},
   "outputs": [
    {
     "name": "stdout",
     "output_type": "stream",
     "text": [
      "6이상\n"
     ]
    }
   ],
   "source": [
    "num = 6\n",
    "if not num > 5:\n",
    "    print(\"5이하\")\n",
    "else :\n",
    "    print(\"6이상\")\n",
    "    "
   ]
  },
  {
   "cell_type": "code",
   "execution_count": 23,
   "id": "e30f4322-7036-49ef-9ffd-7f6d34c1678a",
   "metadata": {},
   "outputs": [
    {
     "name": "stdout",
     "output_type": "stream",
     "text": [
      "돈이 없네요\n"
     ]
    }
   ],
   "source": [
    "money = False\n",
    "\n",
    "if money:\n",
    "    pass\n",
    "else :\n",
    "    print(\"돈이 없네요\")"
   ]
  },
  {
   "cell_type": "code",
   "execution_count": 28,
   "id": "3b402e0b-84b0-4d2a-b3a7-c059cd7ecdd3",
   "metadata": {},
   "outputs": [
    {
     "name": "stdout",
     "output_type": "stream",
     "text": [
      "돈이 없네요\n"
     ]
    }
   ],
   "source": [
    "money = False\n",
    "\n",
    "if money: pass\n",
    "else: print(\"돈이 없네요\")"
   ]
  },
  {
   "cell_type": "code",
   "execution_count": 26,
   "id": "37ace840-0b58-45a5-9d98-c4f6d34d5075",
   "metadata": {},
   "outputs": [
    {
     "name": "stdout",
     "output_type": "stream",
     "text": [
      "1000원 이하\n"
     ]
    }
   ],
   "source": [
    "money = 1000\n",
    "\n",
    "if money > 5000:\n",
    "    print(\"5000원 넘게 있다\")\n",
    "elif money > 1000:\n",
    "    print(\"1000원 넘게 있다\")\n",
    "else:\n",
    "    print(\"1000원 이하\")"
   ]
  },
  {
   "cell_type": "code",
   "execution_count": 30,
   "id": "d57416b5-08be-4848-afc7-a639eafb9612",
   "metadata": {},
   "outputs": [
    {
     "name": "stdout",
     "output_type": "stream",
     "text": [
      "불합격!\n"
     ]
    }
   ],
   "source": [
    "score = 59\n",
    "result = \"합격!\" if score > 59 else \"불합격!\"\n",
    "print(result)"
   ]
  }
 ],
 "metadata": {
  "kernelspec": {
   "display_name": "Python 3 (ipykernel)",
   "language": "python",
   "name": "python3"
  },
  "language_info": {
   "codemirror_mode": {
    "name": "ipython",
    "version": 3
   },
   "file_extension": ".py",
   "mimetype": "text/x-python",
   "name": "python",
   "nbconvert_exporter": "python",
   "pygments_lexer": "ipython3",
   "version": "3.12.7"
  }
 },
 "nbformat": 4,
 "nbformat_minor": 5
}
