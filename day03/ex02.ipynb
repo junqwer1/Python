{
 "cells": [
  {
   "cell_type": "code",
   "execution_count": null,
   "id": "45562ba9-50c6-4d0e-92c6-7469a742be3b",
   "metadata": {},
   "outputs": [],
   "source": [
    "total = 0\n",
    "while True: # 무한루프\n",
    "    num = input(\"숫자 입력:\") # 문자열 반환\n",
    "    try:\n",
    "        total += int(num) # 문자열 숫자 -> 정수 숫자\n",
    "    except:\n",
    "        print(\"숫자 형식만 입력하세요.\")\n",
    "    print(\"합계 : \", total)"
   ]
  },
  {
   "cell_type": "code",
   "execution_count": 6,
   "id": "40cb8373-2e3b-4825-8b11-37dea10f228d",
   "metadata": {},
   "outputs": [
    {
     "name": "stdout",
     "output_type": "stream",
     "text": [
      "합계 :  2500\n"
     ]
    }
   ],
   "source": [
    "total = 0\n",
    "num = 1\n",
    "\n",
    "while num <= 100:\n",
    "    if num == 50:\n",
    "        break # 반복 멈추기\n",
    "    if num % 2 == 0:\n",
    "        num += 1\n",
    "        continue # 현재 반복을 중단하고 새로 반복 시작(반복 건너뛰기)\n",
    "    total += num\n",
    "    #num++ // 파이썬은 증가 감소 연산자 사용 불가!\n",
    "    num += 1\n",
    "print(\"합계 : \", total)"
   ]
  },
  {
   "cell_type": "code",
   "execution_count": 9,
   "id": "b8218b85-e501-493e-8cf0-b829dc2fc82c",
   "metadata": {},
   "outputs": [
    {
     "name": "stdout",
     "output_type": "stream",
     "text": [
      "나무를 1번 찍었습니다.\n",
      "나무를 2번 찍었습니다.\n",
      "나무를 3번 찍었습니다.\n",
      "나무를 4번 찍었습니다.\n",
      "나무를 5번 찍었습니다.\n",
      "나무를 6번 찍었습니다.\n",
      "나무를 7번 찍었습니다.\n",
      "나무를 8번 찍었습니다.\n",
      "나무를 9번 찍었습니다.\n",
      "나무를 10번 찍었습니다.\n",
      "나무가 넘어갑니다\n"
     ]
    }
   ],
   "source": [
    "tree_hit = 0\n",
    "while tree_hit < 10:\n",
    "    tree_hit += 1\n",
    "    print(\"나무를 %d번 찍었습니다.\" %tree_hit)\n",
    "    if tree_hit == 10:\n",
    "        print(\"나무가 넘어갑니다\")\n"
   ]
  },
  {
   "cell_type": "code",
   "execution_count": 12,
   "id": "126804aa-ad42-43e7-8e3c-9ead1c496b51",
   "metadata": {},
   "outputs": [
    {
     "name": "stdout",
     "output_type": "stream",
     "text": [
      "\n",
      "1.Add\n",
      "2.Del\n",
      "3.List\n",
      "4.Quit\n",
      "\n"
     ]
    },
    {
     "name": "stdin",
     "output_type": "stream",
     "text": [
      " 1\n"
     ]
    },
    {
     "name": "stdout",
     "output_type": "stream",
     "text": [
      "\n",
      "1.Add\n",
      "2.Del\n",
      "3.List\n",
      "4.Quit\n",
      "\n"
     ]
    },
    {
     "name": "stdin",
     "output_type": "stream",
     "text": [
      " 3\n"
     ]
    },
    {
     "name": "stdout",
     "output_type": "stream",
     "text": [
      "\n",
      "1.Add\n",
      "2.Del\n",
      "3.List\n",
      "4.Quit\n",
      "\n"
     ]
    },
    {
     "name": "stdin",
     "output_type": "stream",
     "text": [
      " 4\n"
     ]
    },
    {
     "name": "stdout",
     "output_type": "stream",
     "text": [
      "good bye\n"
     ]
    }
   ],
   "source": [
    "num = 0\n",
    "prompt = \"\"\"\n",
    "1.Add\n",
    "2.Del\n",
    "3.List\n",
    "4.Quit\n",
    "\"\"\"\n",
    "while num != 4:\n",
    "    print(prompt)\n",
    "    num = int(input())\n",
    "    if num == 4:\n",
    "        print(\"good bye\")"
   ]
  }
 ],
 "metadata": {
  "kernelspec": {
   "display_name": "Python 3 (ipykernel)",
   "language": "python",
   "name": "python3"
  },
  "language_info": {
   "codemirror_mode": {
    "name": "ipython",
    "version": 3
   },
   "file_extension": ".py",
   "mimetype": "text/x-python",
   "name": "python",
   "nbconvert_exporter": "python",
   "pygments_lexer": "ipython3",
   "version": "3.12.7"
  }
 },
 "nbformat": 4,
 "nbformat_minor": 5
}
