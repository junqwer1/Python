{
 "cells": [
  {
   "cell_type": "code",
   "execution_count": 81,
   "id": "7999c67a-f7a4-4946-ada1-17acce5b42ee",
   "metadata": {},
   "outputs": [
    {
     "name": "stdout",
     "output_type": "stream",
     "text": [
      "[7, 8, 9, 10, 11, 8, 9, 10, 11, 12, 9, 10, 11, 12, 13, 10, 11, 12, 13, 14, 11, 12, 13, 14, 15]\n",
      "[6, 7, 8, 9, 10, 12, 14, 16, 18, 20, 18, 21, 24, 27, 30, 24, 28, 32, 36, 40, 30, 35, 40, 45, 50]\n",
      "[7, 9, 21, 27, 35, 45]\n"
     ]
    }
   ],
   "source": [
    "# 리스트 컴프리헨션\n",
    "items = [1,2,3,4,5]\n",
    "items2 = [6,7,8,9,10]\n",
    "\n",
    "# 첫번째 문제 두 수의 합을 구해봅시다.\n",
    "items3 = [i+j for i in items for j in items2]\n",
    "print(items3)\n",
    "# 두번째 문제 두 수의 곱을 구해봅시다.\n",
    "items4 = [i*j for i in items for j in items2]\n",
    "print(items4)\n",
    "# 세번째 문제 두 수가 홀수 일 경우 곱.\n",
    "items5 = [i*j for i in items for j in items2 if i % 2 == 1 and j % 2 == 1]\n",
    "print(items5)\n",
    "\n",
    "if i % 2 == 1 and j % 2 == 1\n",
    "\n",
    "if(i % 2==1 && j % 2 == 1)"
   ]
  }
 ],
 "metadata": {
  "kernelspec": {
   "display_name": "Python 3 (ipykernel)",
   "language": "python",
   "name": "python3"
  },
  "language_info": {
   "codemirror_mode": {
    "name": "ipython",
    "version": 3
   },
   "file_extension": ".py",
   "mimetype": "text/x-python",
   "name": "python",
   "nbconvert_exporter": "python",
   "pygments_lexer": "ipython3",
   "version": "3.12.7"
  }
 },
 "nbformat": 4,
 "nbformat_minor": 5
}
