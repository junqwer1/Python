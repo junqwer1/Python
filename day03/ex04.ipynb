{
 "cells": [
  {
   "cell_type": "code",
   "execution_count": 1,
   "id": "d382c7d4-7e8f-4893-8674-a12901ac8086",
   "metadata": {},
   "outputs": [],
   "source": [
    "def add(a, b) :\n",
    "    return a + b"
   ]
  },
  {
   "cell_type": "code",
   "execution_count": 2,
   "id": "24448616-f1d5-4389-a274-1697a00328fe",
   "metadata": {},
   "outputs": [
    {
     "data": {
      "text/plain": [
       "30"
      ]
     },
     "execution_count": 2,
     "metadata": {},
     "output_type": "execute_result"
    }
   ],
   "source": [
    "add(10, 20)"
   ]
  },
  {
   "cell_type": "code",
   "execution_count": 3,
   "id": "65b0c7f9-384c-42ad-bfa6-b476da060ab7",
   "metadata": {},
   "outputs": [],
   "source": [
    "def sub(a, b):\n",
    "    pass"
   ]
  },
  {
   "cell_type": "code",
   "execution_count": 4,
   "id": "1cb2d3d5-f660-44d3-aa5a-240dfe3d0a4d",
   "metadata": {},
   "outputs": [],
   "source": [
    "def calc(a, b):\n",
    "    return a + b, a - b, a * b, a / b # 반환값 4개가 아니라 튜플 1개"
   ]
  },
  {
   "cell_type": "code",
   "execution_count": 6,
   "id": "802dcab1-aa66-4111-96f1-6b13831eb100",
   "metadata": {},
   "outputs": [
    {
     "name": "stdout",
     "output_type": "stream",
     "text": [
      "(15, 5, 50, 2.0)\n"
     ]
    },
    {
     "data": {
      "text/plain": [
       "tuple"
      ]
     },
     "execution_count": 6,
     "metadata": {},
     "output_type": "execute_result"
    }
   ],
   "source": [
    "result = calc(10, 5)\n",
    "print(result)\n",
    "type(result)"
   ]
  },
  {
   "cell_type": "code",
   "execution_count": 7,
   "id": "753c1dec-a417-456b-952e-e0fe62cc709c",
   "metadata": {},
   "outputs": [
    {
     "name": "stdout",
     "output_type": "stream",
     "text": [
      "15 5 50 2.0\n"
     ]
    }
   ],
   "source": [
    "r1, r2, r3, r4 = calc(10, 5)\n",
    "print(r1, r2, r3, r4)"
   ]
  },
  {
   "cell_type": "code",
   "execution_count": 13,
   "id": "0bca1147-1056-4f44-9d56-e09fd1f31fda",
   "metadata": {},
   "outputs": [],
   "source": [
    "def sum(num, *params) :\n",
    "    print(\"num\", num, \"params\", params)\n",
    "    total = 0\n",
    "    for i in params:\n",
    "        total += i\n",
    "    return total"
   ]
  },
  {
   "cell_type": "code",
   "execution_count": 14,
   "id": "5617f567-b382-492e-95cc-299a744f89d9",
   "metadata": {},
   "outputs": [
    {
     "name": "stdout",
     "output_type": "stream",
     "text": [
      "num 10 params (20, 30, 40, 50)\n"
     ]
    },
    {
     "data": {
      "text/plain": [
       "140"
      ]
     },
     "execution_count": 14,
     "metadata": {},
     "output_type": "execute_result"
    }
   ],
   "source": [
    "sum(10, 20, 30, 40, 50)"
   ]
  },
  {
   "cell_type": "code",
   "execution_count": 15,
   "id": "5a458aad-3279-4588-87fe-3d8168be6fba",
   "metadata": {},
   "outputs": [],
   "source": [
    "def add(a, b):\n",
    "    return a + b"
   ]
  },
  {
   "cell_type": "code",
   "execution_count": 16,
   "id": "7eb039ae-179a-4665-8c83-f39fc98b17f2",
   "metadata": {},
   "outputs": [
    {
     "data": {
      "text/plain": [
       "30"
      ]
     },
     "execution_count": 16,
     "metadata": {},
     "output_type": "execute_result"
    }
   ],
   "source": [
    "add(10, 20) # a = 10, b = 20"
   ]
  },
  {
   "cell_type": "code",
   "execution_count": 17,
   "id": "3432af08-c87a-4663-95d2-c500e2f8629d",
   "metadata": {},
   "outputs": [
    {
     "data": {
      "text/plain": [
       "30"
      ]
     },
     "execution_count": 17,
     "metadata": {},
     "output_type": "execute_result"
    }
   ],
   "source": [
    "add(b = 20, a = 10)"
   ]
  },
  {
   "cell_type": "code",
   "execution_count": 18,
   "id": "6c03a48f-506d-4a98-bf56-e7a1f5412888",
   "metadata": {},
   "outputs": [],
   "source": [
    "def words(**params):\n",
    "    print(params)"
   ]
  },
  {
   "cell_type": "code",
   "execution_count": 19,
   "id": "d8977e8c-cd4a-404d-885e-04358de8879a",
   "metadata": {},
   "outputs": [
    {
     "name": "stdout",
     "output_type": "stream",
     "text": [
      "{'name': '이이름', 'age': 40, 'address': '주소'}\n"
     ]
    }
   ],
   "source": [
    "words(name=\"이이름\", age=40, address=\"주소\")"
   ]
  },
  {
   "cell_type": "code",
   "execution_count": 20,
   "id": "1eec94b7-20b6-4b06-b7c2-f69d288453a3",
   "metadata": {},
   "outputs": [],
   "source": [
    "def get_number(num):\n",
    "    if num % 10 == 0:\n",
    "        print(\"종료!\")\n",
    "        return # 함수의 종료, 이후 코드는 실행X\n",
    "    print(num)"
   ]
  },
  {
   "cell_type": "code",
   "execution_count": 22,
   "id": "cc74f488-8f39-4588-b324-1e26722f9dfd",
   "metadata": {},
   "outputs": [
    {
     "name": "stdout",
     "output_type": "stream",
     "text": [
      "11\n"
     ]
    }
   ],
   "source": [
    "get_number(11)"
   ]
  },
  {
   "cell_type": "code",
   "execution_count": 27,
   "id": "6c814208-dd68-4966-900b-22c30bb98267",
   "metadata": {},
   "outputs": [],
   "source": [
    "def sum(a, b, c = 100): # 기본값은 항상 마지막 매개변수 부터 차례대로 설정!\n",
    "    return a + b + c"
   ]
  },
  {
   "cell_type": "code",
   "execution_count": 25,
   "id": "d402f272-92f0-4c26-b0f5-128bf9f54114",
   "metadata": {},
   "outputs": [
    {
     "data": {
      "text/plain": [
       "60"
      ]
     },
     "execution_count": 25,
     "metadata": {},
     "output_type": "execute_result"
    }
   ],
   "source": [
    "sum(10, 20, 30)"
   ]
  },
  {
   "cell_type": "code",
   "execution_count": 28,
   "id": "fcce25d3-1fa4-451e-b46f-e56f55426ba3",
   "metadata": {},
   "outputs": [
    {
     "ename": "SyntaxError",
     "evalue": "parameter without a default follows parameter with a default (339554181.py, line 1)",
     "output_type": "error",
     "traceback": [
      "\u001b[1;36m  Cell \u001b[1;32mIn[28], line 1\u001b[1;36m\u001b[0m\n\u001b[1;33m    def sum2(a, b = 100, c):\u001b[0m\n\u001b[1;37m                         ^\u001b[0m\n\u001b[1;31mSyntaxError\u001b[0m\u001b[1;31m:\u001b[0m parameter without a default follows parameter with a default\n"
     ]
    }
   ],
   "source": [
    "def sum2(a, b = 100, c):\n",
    "    return a + b + c"
   ]
  },
  {
   "cell_type": "code",
   "execution_count": 29,
   "id": "5f4f73c4-5a41-4696-bbe0-6f834306979a",
   "metadata": {},
   "outputs": [],
   "source": [
    "name = \"이이름\"\n",
    "\n",
    "def message(msg):\n",
    "    global name # 전역변수 name을 message 함수 지역내에서 사용하겠다\n",
    "    print(f\"{name}님 {msg}\")"
   ]
  },
  {
   "cell_type": "code",
   "execution_count": 30,
   "id": "b5896621-ec5e-49d8-b9c2-830ef9a1677d",
   "metadata": {},
   "outputs": [
    {
     "name": "stdout",
     "output_type": "stream",
     "text": [
      "이이름님 안녕하세요\n"
     ]
    }
   ],
   "source": [
    "message(\"안녕하세요\")"
   ]
  },
  {
   "cell_type": "code",
   "execution_count": 33,
   "id": "0e3fbf0b-4ad2-478a-bbe1-cbd0e6a8ef3a",
   "metadata": {},
   "outputs": [
    {
     "name": "stdout",
     "output_type": "stream",
     "text": [
      "[2, 4, 6, 8, 10]\n"
     ]
    }
   ],
   "source": [
    "nums = [1, 2, 3, 4, 5, 6, 7, 8, 9, 10]\n",
    "def is_even(num): # 짝수 판별 함수 - 사용자 정의 함수, 일회용으로 사용하는 경우가 많다\n",
    "    return num % 2 == 0\n",
    "\n",
    "even = filter(is_even, nums)\n",
    "even_nums = list(even)\n",
    "print(even_nums)"
   ]
  },
  {
   "cell_type": "code",
   "execution_count": 10,
   "id": "184a9f35-477f-4bbb-8de5-05a7315a7442",
   "metadata": {},
   "outputs": [
    {
     "name": "stdout",
     "output_type": "stream",
     "text": [
      "None\n"
     ]
    }
   ],
   "source": [
    "def sub(a, b):\n",
    "    "
   ]
  },
  {
   "cell_type": "code",
   "execution_count": 21,
   "id": "b3c94a45-60e4-4880-85b5-cdc561b40c72",
   "metadata": {},
   "outputs": [
    {
     "name": "stdout",
     "output_type": "stream",
     "text": [
      "[5, 6, 7, 8, 9, 10]\n"
     ]
    }
   ],
   "source": [
    "nums = [1, 2, 3, 4, 5, 6, 7, 8, 9, 10]\n",
    "even = list(filter(lambda x : x % 2 == 0 , nums))\n",
    "print(even)"
   ]
  }
 ],
 "metadata": {
  "kernelspec": {
   "display_name": "Python 3 (ipykernel)",
   "language": "python",
   "name": "python3"
  },
  "language_info": {
   "codemirror_mode": {
    "name": "ipython",
    "version": 3
   },
   "file_extension": ".py",
   "mimetype": "text/x-python",
   "name": "python",
   "nbconvert_exporter": "python",
   "pygments_lexer": "ipython3",
   "version": "3.12.7"
  }
 },
 "nbformat": 4,
 "nbformat_minor": 5
}
