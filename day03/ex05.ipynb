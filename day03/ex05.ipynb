{
 "cells": [
  {
   "cell_type": "code",
   "execution_count": 2,
   "id": "e7dfe160-d8f4-45e3-8345-bd449f158385",
   "metadata": {},
   "outputs": [
    {
     "name": "stdout",
     "output_type": "stream",
     "text": [
      "ABCDEFGHI\n"
     ]
    }
   ],
   "source": [
    "print(\"ABC\"+\"DEF\"+\"GHI\") # 문자열 결합 + 연산자, 문자열끼리만 가능"
   ]
  },
  {
   "cell_type": "code",
   "execution_count": 4,
   "id": "ce71cdc8-c13e-4237-950c-175e24d08484",
   "metadata": {},
   "outputs": [
    {
     "name": "stdout",
     "output_type": "stream",
     "text": [
      "ABCDEFGHI\n"
     ]
    }
   ],
   "source": [
    "print(\"ABC\" \"DEF\" \"GHI\") # 문자열 결합, + 연산자를 사용하지 않아도 결합해서 출력"
   ]
  },
  {
   "cell_type": "code",
   "execution_count": 5,
   "id": "f9081f28-2960-4902-9f0a-7a9235b3d0c5",
   "metadata": {},
   "outputs": [
    {
     "name": "stdout",
     "output_type": "stream",
     "text": [
      "ABC DEF GHI\n"
     ]
    }
   ],
   "source": [
    "print(\"ABC\", \"DEF\", \"GHI\") # 문자열을 공백으로 띄어서 결합"
   ]
  },
  {
   "cell_type": "code",
   "execution_count": 7,
   "id": "ca163357-ff96-439c-ad62-ddd51c9f259f",
   "metadata": {},
   "outputs": [
    {
     "name": "stdout",
     "output_type": "stream",
     "text": [
      "ABC#DEF#GHI\n"
     ]
    }
   ],
   "source": [
    "print(\"ABC\", end=\"#\") # end : 기본값이 \\n -> \"ABC\\n\"\n",
    "print(\"DEF\", end=\"#\")\n",
    "print(\"GHI\")"
   ]
  }
 ],
 "metadata": {
  "kernelspec": {
   "display_name": "Python 3 (ipykernel)",
   "language": "python",
   "name": "python3"
  },
  "language_info": {
   "codemirror_mode": {
    "name": "ipython",
    "version": 3
   },
   "file_extension": ".py",
   "mimetype": "text/x-python",
   "name": "python",
   "nbconvert_exporter": "python",
   "pygments_lexer": "ipython3",
   "version": "3.12.7"
  }
 },
 "nbformat": 4,
 "nbformat_minor": 5
}
