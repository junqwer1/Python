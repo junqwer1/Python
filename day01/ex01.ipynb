{
 "cells": [
  {
   "cell_type": "code",
   "execution_count": 9,
   "id": "0ce8f46d-3e04-4902-9911-b538fedc2214",
   "metadata": {},
   "outputs": [
    {
     "data": {
      "text/plain": [
       "8"
      ]
     },
     "execution_count": 9,
     "metadata": {},
     "output_type": "execute_result"
    }
   ],
   "source": [
    "# ** : 제곱 연산\n",
    "2 ** 3 # 2의 3제곱"
   ]
  },
  {
   "cell_type": "code",
   "execution_count": 12,
   "id": "83e97401-d4c6-4725-8211-776a9a731ad6",
   "metadata": {},
   "outputs": [
    {
     "name": "stdout",
     "output_type": "stream",
     "text": [
      "1\n",
      "4\n"
     ]
    }
   ],
   "source": [
    "# % : 나머지 연산자\n",
    "# // : 목을 구하는 연산자\n",
    "print (9 % 2)\n",
    "print (9 // 2)"
   ]
  },
  {
   "cell_type": "code",
   "execution_count": 20,
   "id": "48a7cd20-1485-4e4d-874c-96be74da0a09",
   "metadata": {},
   "outputs": [
    {
     "data": {
      "text/plain": [
       "str"
      ]
     },
     "execution_count": 20,
     "metadata": {},
     "output_type": "execute_result"
    }
   ],
   "source": [
    "# a = 100\n",
    "# a = 100.123\n",
    "# a = \"Python\"\n",
    "# a = 'Python'\n",
    "a\n",
    "type(a) # 자료형 체크 함수"
   ]
  },
  {
   "cell_type": "code",
   "execution_count": 21,
   "id": "1420ef10-9acc-4de8-bab7-20519be3ddf5",
   "metadata": {},
   "outputs": [
    {
     "data": {
      "text/plain": [
       "\"Python's favorite food is perl\""
      ]
     },
     "execution_count": 21,
     "metadata": {},
     "output_type": "execute_result"
    }
   ],
   "source": [
    "\"Python's favorite food is perl\" # 문장에 작은 따옴표가 섞여 있는 경우 큰 따옴표(\") 사용"
   ]
  },
  {
   "cell_type": "code",
   "execution_count": 24,
   "id": "506b944a-6644-471d-ab2d-f74d1d00aacf",
   "metadata": {},
   "outputs": [
    {
     "data": {
      "text/plain": [
       "\"Python's favorite food is perl\""
      ]
     },
     "execution_count": 24,
     "metadata": {},
     "output_type": "execute_result"
    }
   ],
   "source": [
    "# 'Python's favorite food is perl' 오류 발생(문법 오류)\n",
    "'Python\\'s favorite food is perl' # \\' - 작은 따옴표 인식 가능 \\ - escape 문자\n",
    "\"Python\\\"s favorite food is perl\" # \\\" - 큰 따옴표 인식 가능"
   ]
  },
  {
   "cell_type": "code",
   "execution_count": 28,
   "id": "db48fe64-657e-4940-a02b-6beb4c4486d9",
   "metadata": {},
   "outputs": [
    {
     "name": "stdout",
     "output_type": "stream",
     "text": [
      "life is short, \n",
      "You need Python\n"
     ]
    }
   ],
   "source": [
    "a = \"life is short, \\nYou need Python\" # \\n - 메타 문자 / 줄 개행\n",
    "print(a)"
   ]
  },
  {
   "cell_type": "code",
   "execution_count": 29,
   "id": "79c2bb48-2400-4dbd-b604-f4c6fd9fb4c5",
   "metadata": {},
   "outputs": [
    {
     "name": "stdout",
     "output_type": "stream",
     "text": [
      "Life is short,\n",
      "You need Python\n"
     ]
    }
   ],
   "source": [
    "b = \"\"\"Life is short,\n",
    "You need Python\"\"\" # \"\"\" 또는 ''' 모두 가능\n",
    "print(b)"
   ]
  },
  {
   "cell_type": "code",
   "execution_count": 30,
   "id": "03f6fb2e-a801-4cb3-a1bb-b5aa46bf4ab1",
   "metadata": {},
   "outputs": [
    {
     "data": {
      "text/plain": [
       "'python is  fun!'"
      ]
     },
     "execution_count": 30,
     "metadata": {},
     "output_type": "execute_result"
    }
   ],
   "source": [
    "\"python\" + \" is \" + \" fun!\""
   ]
  },
  {
   "cell_type": "code",
   "execution_count": 33,
   "id": "c1209784-190c-461a-8d64-95fd7bdeafe5",
   "metadata": {},
   "outputs": [
    {
     "data": {
      "text/plain": [
       "' python  python  python '"
      ]
     },
     "execution_count": 33,
     "metadata": {},
     "output_type": "execute_result"
    }
   ],
   "source": [
    "\" python \" * 3"
   ]
  },
  {
   "cell_type": "code",
   "execution_count": 35,
   "id": "1e09a199-5ee4-4b56-87e8-4a1a143076c2",
   "metadata": {},
   "outputs": [
    {
     "name": "stdout",
     "output_type": "stream",
     "text": [
      "==============================\n",
      "재미있는 파이썬 공부!\n",
      "==============================\n"
     ]
    }
   ],
   "source": [
    "print(\"=\" * 30)\n",
    "print(\"재미있는 파이썬 공부!\")\n",
    "print(\"=\" * 30)"
   ]
  },
  {
   "cell_type": "code",
   "execution_count": 38,
   "id": "537684a4-90ba-4c57-848b-56cd4f93ebb2",
   "metadata": {},
   "outputs": [
    {
     "data": {
      "text/plain": [
       "3"
      ]
     },
     "execution_count": 38,
     "metadata": {},
     "output_type": "execute_result"
    }
   ],
   "source": [
    "a = \"피곤해\"\n",
    "len(a)"
   ]
  },
  {
   "cell_type": "code",
   "execution_count": 39,
   "id": "b92a583e-c393-4e22-85b6-10ae805d49a7",
   "metadata": {},
   "outputs": [],
   "source": [
    "a = \"Life is too short, You need Python\""
   ]
  },
  {
   "cell_type": "code",
   "execution_count": 55,
   "id": "57d738f4-7be1-496e-a84f-efdc2fca496c",
   "metadata": {},
   "outputs": [
    {
     "data": {
      "text/plain": [
       "'Life is too short, You need'"
      ]
     },
     "execution_count": 55,
     "metadata": {},
     "output_type": "execute_result"
    }
   ],
   "source": [
    "a[-6:] # -6인덱스 위치부터 끝까지\n",
    "a[:-7] # 0 ~ -8"
   ]
  },
  {
   "cell_type": "code",
   "execution_count": 58,
   "id": "7eae1e91-55ea-4c5c-9928-26f0b2103e55",
   "metadata": {},
   "outputs": [
    {
     "name": "stdout",
     "output_type": "stream",
     "text": [
      "Life is too short, You need Python\n",
      "Life 2651072036608 2651062389376\n"
     ]
    }
   ],
   "source": [
    "b = a[:] # 문자열 전체 복사\n",
    "print(b)\n",
    "# print(id(a), id(b))\n",
    "print(a[0:4], id(a[0:4]), id(a))"
   ]
  },
  {
   "cell_type": "code",
   "execution_count": 46,
   "id": "c4e881d7-5154-4a8b-8cd3-af32c67064ba",
   "metadata": {},
   "outputs": [
    {
     "data": {
      "text/plain": [
       "'Life'"
      ]
     },
     "execution_count": 46,
     "metadata": {},
     "output_type": "execute_result"
    }
   ],
   "source": [
    "a[0:4] # 0 ,1, 2, 3"
   ]
  },
  {
   "cell_type": "code",
   "execution_count": 44,
   "id": "29fa1cbe-6983-429f-a7d3-a08db83a8c9d",
   "metadata": {},
   "outputs": [
    {
     "data": {
      "text/plain": [
       "'n'"
      ]
     },
     "execution_count": 44,
     "metadata": {},
     "output_type": "execute_result"
    }
   ],
   "source": [
    "a[-1] # 오른쪽부터"
   ]
  },
  {
   "cell_type": "code",
   "execution_count": 45,
   "id": "a1d7e32d-8c88-4c04-be77-6e353d430ea1",
   "metadata": {},
   "outputs": [
    {
     "data": {
      "text/plain": [
       "'f'"
      ]
     },
     "execution_count": 45,
     "metadata": {},
     "output_type": "execute_result"
    }
   ],
   "source": [
    "a[2]"
   ]
  },
  {
   "cell_type": "code",
   "execution_count": 43,
   "id": "33387483-c8fb-4792-8118-41f4407c8b91",
   "metadata": {},
   "outputs": [
    {
     "name": "stdout",
     "output_type": "stream",
     "text": [
      "140709390730160\n",
      "2651062202560\n",
      "ABCDEF\n"
     ]
    }
   ],
   "source": [
    "b = \"ABC\" # id(...) 자원의 주소를 조회하는 함수\n",
    "print(id(b))\n",
    "\n",
    "b += \"DEF\" \n",
    "print(id(b)) # 문자열은 불변! 새로 추가하면 새로운 문자열 객체가 생성\n",
    "print(b)"
   ]
  },
  {
   "cell_type": "code",
   "execution_count": 61,
   "id": "a280be0a-537d-4526-b073-09d83a390db6",
   "metadata": {},
   "outputs": [
    {
     "name": "stdout",
     "output_type": "stream",
     "text": [
      "Python\n"
     ]
    }
   ],
   "source": [
    "a = \"Pithon\" # Python 변경하시오\n",
    "b=a[0]+\"y\"+a[2:]\n",
    "print(b)\n"
   ]
  },
  {
   "cell_type": "code",
   "execution_count": 66,
   "id": "ac921e06-d915-45c1-8418-1553178dbb09",
   "metadata": {},
   "outputs": [
    {
     "data": {
      "text/plain": [
       "'I eat three apples.'"
      ]
     },
     "execution_count": 66,
     "metadata": {},
     "output_type": "execute_result"
    }
   ],
   "source": [
    "# \"I eat %d apples.\" % 3\n",
    "\"I eat %s apples.\" % \"three\""
   ]
  },
  {
   "cell_type": "code",
   "execution_count": 75,
   "id": "cbcf5a50-e9ac-4b1c-a8c2-da3a4dc431fa",
   "metadata": {},
   "outputs": [
    {
     "data": {
      "text/plain": [
       "'I eat 3 apples and 5 breads'"
      ]
     },
     "execution_count": 75,
     "metadata": {},
     "output_type": "execute_result"
    }
   ],
   "source": [
    "\"I eat %d apples and %d breads\" % (3,5) # String.format(...)"
   ]
  },
  {
   "cell_type": "code",
   "execution_count": 74,
   "id": "54237417-c745-482a-9970-87a942b022af",
   "metadata": {},
   "outputs": [
    {
     "data": {
      "text/plain": [
       "'loading is now 78%'"
      ]
     },
     "execution_count": 74,
     "metadata": {},
     "output_type": "execute_result"
    }
   ],
   "source": [
    "\"loading is now %d%%\" % 78 # % : 형식화를 위한 문법적 문자로 인식하므로 %% 써야 %문자로 인식"
   ]
  },
  {
   "cell_type": "code",
   "execution_count": 77,
   "id": "a077b9cb-e53f-43bd-92c4-08c6e54cf41c",
   "metadata": {},
   "outputs": [
    {
     "data": {
      "text/plain": [
       "'ABC       DEF'"
      ]
     },
     "execution_count": 77,
     "metadata": {},
     "output_type": "execute_result"
    }
   ],
   "source": [
    "\"ABC%10s\" % \"DEF\""
   ]
  },
  {
   "cell_type": "code",
   "execution_count": 78,
   "id": "ca55d024-22d4-4f57-b7e2-58c7c4df1624",
   "metadata": {},
   "outputs": [
    {
     "data": {
      "text/plain": [
       "'ABC       DEF'"
      ]
     },
     "execution_count": 78,
     "metadata": {},
     "output_type": "execute_result"
    }
   ],
   "source": [
    "\"%-10sDEF\" % \"ABC\""
   ]
  },
  {
   "cell_type": "code",
   "execution_count": 79,
   "id": "1bdc4453-19d1-49a4-a305-ad31c44b4476",
   "metadata": {},
   "outputs": [
    {
     "data": {
      "text/plain": [
       "'   12.1235'"
      ]
     },
     "execution_count": 79,
     "metadata": {},
     "output_type": "execute_result"
    }
   ],
   "source": [
    "\"%10.4f\" % 12.12345678"
   ]
  },
  {
   "cell_type": "code",
   "execution_count": 81,
   "id": "3416dd52-504f-4bd1-9264-792e32c813be",
   "metadata": {},
   "outputs": [
    {
     "data": {
      "text/plain": [
       "'12341234.1234'"
      ]
     },
     "execution_count": 81,
     "metadata": {},
     "output_type": "execute_result"
    }
   ],
   "source": [
    "# \"%0.4f\" % 12341234.12341234\n",
    "\"%.4f\" % 12341234.12341234"
   ]
  },
  {
   "cell_type": "code",
   "execution_count": 88,
   "id": "d5606862-4589-4593-8068-b357993d64b5",
   "metadata": {},
   "outputs": [
    {
     "data": {
      "text/plain": [
       "'I eat 3,5 apples and five breads'"
      ]
     },
     "execution_count": 88,
     "metadata": {},
     "output_type": "execute_result"
    }
   ],
   "source": [
    "# \"I eat {0} apples.\".format(3)\n",
    "# \"I eat {0} apples.\".format(\"three\")\n",
    "# \"I eat {0} apples and {1} breads\".format(3, \"five\")\n",
    "# \"I eat {num1} apples and {num2} breads\".format(num1=3, num2=5)\n",
    "# \"I eat {num1} apples and {num2} breads\".format(num2=5, num1=3)\n",
    "# \"I eat {0},{1} apples and {num} breads\".format(3,5, num=\"five\")"
   ]
  },
  {
   "cell_type": "code",
   "execution_count": 93,
   "id": "7dffd3f9-7279-481a-909f-1cf8f1e0384f",
   "metadata": {},
   "outputs": [
    {
     "data": {
      "text/plain": [
       "'안녕********'"
      ]
     },
     "execution_count": 93,
     "metadata": {},
     "output_type": "execute_result"
    }
   ],
   "source": [
    "# \"{0:<10}\".format(\"안녕\")\n",
    "\"{0:*<10}\".format(\"안녕\")"
   ]
  },
  {
   "cell_type": "code",
   "execution_count": 94,
   "id": "ac59d894-9770-4581-aaa9-7fb06cba909c",
   "metadata": {},
   "outputs": [
    {
     "data": {
      "text/plain": [
       "'********안녕'"
      ]
     },
     "execution_count": 94,
     "metadata": {},
     "output_type": "execute_result"
    }
   ],
   "source": [
    "# \"{0:>10}\".format(\"안녕\")\n",
    "\"{0:*>10}\".format(\"안녕\")"
   ]
  },
  {
   "cell_type": "code",
   "execution_count": 92,
   "id": "a6a06993-119e-4838-a6d0-cc91b78ee404",
   "metadata": {},
   "outputs": [
    {
     "data": {
      "text/plain": [
       "'****안녕****'"
      ]
     },
     "execution_count": 92,
     "metadata": {},
     "output_type": "execute_result"
    }
   ],
   "source": [
    "# \"{0:^10}\".format(\"안녕\")\n",
    "\"{0:*^10}\".format('안녕') # 공백을 *로 채워 넣는다"
   ]
  },
  {
   "cell_type": "code",
   "execution_count": 95,
   "id": "da1c8098-af8d-4777-ba43-f018b72e7a31",
   "metadata": {},
   "outputs": [
    {
     "data": {
      "text/plain": [
       "'100.123'"
      ]
     },
     "execution_count": 95,
     "metadata": {},
     "output_type": "execute_result"
    }
   ],
   "source": [
    "\"{0:0.3f}\".format(100.12345678)"
   ]
  },
  {
   "cell_type": "code",
   "execution_count": 99,
   "id": "4d1fc89c-2fd9-4413-a19d-ae764b7e22c7",
   "metadata": {},
   "outputs": [
    {
     "data": {
      "text/plain": [
       "'{   numbe1 } - 100'"
      ]
     },
     "execution_count": 99,
     "metadata": {},
     "output_type": "execute_result"
    }
   ],
   "source": [
    "\"{{   numbe1 }} - {0}\".format(100)"
   ]
  },
  {
   "cell_type": "code",
   "execution_count": 101,
   "id": "a7587788-a797-4f5e-9c12-398966409fae",
   "metadata": {},
   "outputs": [
    {
     "data": {
      "text/plain": [
       "'num1=10, num2=20, result=30'"
      ]
     },
     "execution_count": 101,
     "metadata": {},
     "output_type": "execute_result"
    }
   ],
   "source": [
    "num1 = 10\n",
    "num2 = 20\n",
    "f\"num1={num1}, num2={num2}, result={num1+num2}\" # 파이썬 3.6버전 부터 도입된 문법"
   ]
  },
  {
   "cell_type": "code",
   "execution_count": 105,
   "id": "ef341137-50ec-458d-bea6-a649d9a6c5c3",
   "metadata": {},
   "outputs": [
    {
     "data": {
      "text/plain": [
       "'안녕********'"
      ]
     },
     "execution_count": 105,
     "metadata": {},
     "output_type": "execute_result"
    }
   ],
   "source": [
    "# f\"{'안녕':<10}\"\n",
    "# f\"{'안녕':>10}\"\n",
    "# f\"{'안녕':^10}\"\n",
    "f\"{'안녕':*<10}\""
   ]
  },
  {
   "cell_type": "code",
   "execution_count": 109,
   "id": "0d2f2247-f4f5-4867-ab5a-42961a2c9770",
   "metadata": {},
   "outputs": [],
   "source": [
    "a = \"Life is too short, You need Python.\""
   ]
  },
  {
   "cell_type": "code",
   "execution_count": 111,
   "id": "4729678e-6344-4697-98d4-e84ea823a152",
   "metadata": {},
   "outputs": [
    {
     "data": {
      "text/plain": [
       "-1"
      ]
     },
     "execution_count": 111,
     "metadata": {},
     "output_type": "execute_result"
    }
   ],
   "source": [
    "# a.find(\"too\") # 8\n",
    "a.find(\"tooo\") # -1"
   ]
  },
  {
   "cell_type": "code",
   "execution_count": 113,
   "id": "10e76e0a-344f-4383-9b49-41ab86e30e7b",
   "metadata": {},
   "outputs": [
    {
     "ename": "ValueError",
     "evalue": "substring not found",
     "output_type": "error",
     "traceback": [
      "\u001b[1;31m---------------------------------------------------------------------------\u001b[0m",
      "\u001b[1;31mValueError\u001b[0m                                Traceback (most recent call last)",
      "Cell \u001b[1;32mIn[113], line 2\u001b[0m\n\u001b[0;32m      1\u001b[0m a\u001b[38;5;241m.\u001b[39mindex(\u001b[38;5;124m\"\u001b[39m\u001b[38;5;124mtoo\u001b[39m\u001b[38;5;124m\"\u001b[39m) \u001b[38;5;66;03m# 8\u001b[39;00m\n\u001b[1;32m----> 2\u001b[0m \u001b[43ma\u001b[49m\u001b[38;5;241;43m.\u001b[39;49m\u001b[43mindex\u001b[49m\u001b[43m(\u001b[49m\u001b[38;5;124;43m\"\u001b[39;49m\u001b[38;5;124;43mtooo\u001b[39;49m\u001b[38;5;124;43m\"\u001b[39;49m\u001b[43m)\u001b[49m\n",
      "\u001b[1;31mValueError\u001b[0m: substring not found"
     ]
    }
   ],
   "source": [
    "a.index(\"too\") # 8\n",
    "a.index(\"tooo\") # 에러"
   ]
  }
 ],
 "metadata": {
  "kernelspec": {
   "display_name": "Python 3 (ipykernel)",
   "language": "python",
   "name": "python3"
  },
  "language_info": {
   "codemirror_mode": {
    "name": "ipython",
    "version": 3
   },
   "file_extension": ".py",
   "mimetype": "text/x-python",
   "name": "python",
   "nbconvert_exporter": "python",
   "pygments_lexer": "ipython3",
   "version": "3.12.7"
  }
 },
 "nbformat": 4,
 "nbformat_minor": 5
}
