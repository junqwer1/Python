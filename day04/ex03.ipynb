{
 "cells": [
  {
   "cell_type": "code",
   "execution_count": 14,
   "id": "fad2b8a7-b198-4463-adc2-30b3d3788fdc",
   "metadata": {},
   "outputs": [],
   "source": [
    "class Calculator:\n",
    "    # Calculator() 호출시 가장 먼저 호출되는 메서드\n",
    "    # 객체 변수(인스턴스 변수) 초기화 작업을 주로 담당\n",
    "    def __init__(self, a, b = 30):\n",
    "        self.a = a\n",
    "        self.b = b\n",
    "    # self: 객체 자원 중 객체 변수(인스턴스 변수)를 접근하기 위한 수단\n",
    "    def add(self):\n",
    "        return self.a + self.b # 객체 변수 a, 객체 변수 b를 더한다\n",
    "    def sub(self):\n",
    "        return self.a - self.b\n",
    "    def mul(self):\n",
    "        return self.a * self.b\n",
    "    def div(self):\n",
    "        return self.a / self.b"
   ]
  },
  {
   "cell_type": "code",
   "execution_count": 16,
   "id": "996a3173-3352-481e-970a-f228a2c9a81d",
   "metadata": {},
   "outputs": [],
   "source": [
    "# cal = Calculator()\n",
    "cal = Calculator(10, 20)"
   ]
  },
  {
   "cell_type": "code",
   "execution_count": 17,
   "id": "ab4cdc1e-0d05-4451-b570-5ec0ab7562d2",
   "metadata": {},
   "outputs": [
    {
     "data": {
      "text/plain": [
       "200"
      ]
     },
     "execution_count": 17,
     "metadata": {},
     "output_type": "execute_result"
    }
   ],
   "source": [
    "# cal.a = 10 # 객체 변수(인스턴스 변수)\n",
    "# cal.b = 20\n",
    "# Calculator.add(cal)\n",
    "cal.add()\n",
    "cal.mul()"
   ]
  },
  {
   "cell_type": "code",
   "execution_count": 24,
   "id": "413d1785-e48e-4ae7-9e3a-bc56dd25cfaa",
   "metadata": {},
   "outputs": [],
   "source": [
    "class ProCalculator(Calculator): # 상속, ProCalculator - 자식, Calculator - 부모\n",
    "    def div(self): # Calculator에 정의된 div를 재정의, 메서드 재정의\n",
    "        if self.b == 0:\n",
    "            return 0\n",
    "\n",
    "        return Calculator.div(self)\n",
    "        # return self.a / self.b\n",
    "    def square(self, x):\n",
    "        return x ** 2"
   ]
  },
  {
   "cell_type": "code",
   "execution_count": 25,
   "id": "fb0a9706-024f-4a0e-a79e-2764b2522335",
   "metadata": {},
   "outputs": [
    {
     "data": {
      "text/plain": [
       "0"
      ]
     },
     "execution_count": 25,
     "metadata": {},
     "output_type": "execute_result"
    }
   ],
   "source": [
    "cal2 = ProCalculator(10, 0)\n",
    "cal2.div()\n",
    "ProCalculator().add(cal2)"
   ]
  },
  {
   "cell_type": "code",
   "execution_count": 29,
   "id": "e87526be-fd7b-48fb-897c-902731914289",
   "metadata": {},
   "outputs": [],
   "source": [
    "class Student:\n",
    "    def __init__(self, id, name, major):\n",
    "        self.id = id\n",
    "        self.name = name\n",
    "        self.major = major\n",
    "\n",
    "    \"\"\"\n",
    "        자바의 toString() 메서드와 유사\n",
    "    \"\"\"\n",
    "    def __str__(self):\n",
    "        return f'id={self.id}, name={self.name}, major={self.major}'"
   ]
  },
  {
   "cell_type": "code",
   "execution_count": 30,
   "id": "e230f967-e1c1-43a9-9977-80a702e3786d",
   "metadata": {},
   "outputs": [
    {
     "name": "stdout",
     "output_type": "stream",
     "text": [
      "id=1000, name=이이름, major=Python\n"
     ]
    }
   ],
   "source": [
    "s1 = Student(1000, \"이이름\", \"Python\")\n",
    "print(s1) # def __str__(self)"
   ]
  },
  {
   "cell_type": "code",
   "execution_count": 33,
   "id": "a024d683-61af-4b9f-8146-5a41a1f3901b",
   "metadata": {},
   "outputs": [],
   "source": [
    "class Multiply:\n",
    "    def __init__(self, num):\n",
    "        self.num = num\n",
    "\n",
    "    # 객체의 참조 변수를 함수 처럼 호출 했을때 실행\n",
    "    def __call__(self, num):\n",
    "        return self.num * num\n",
    "\n",
    "    def __str__(self):\n",
    "        return str(self.num)"
   ]
  },
  {
   "cell_type": "code",
   "execution_count": 35,
   "id": "29883dbf-d773-42a3-8b2e-9513a2b5bf58",
   "metadata": {},
   "outputs": [
    {
     "name": "stdout",
     "output_type": "stream",
     "text": [
      "200\n",
      "10\n"
     ]
    }
   ],
   "source": [
    "mul = Multiply(10) # __init__(self, num) 호출\n",
    "result = mul(20) # __call__(self, num) 호출\n",
    "print(result)\n",
    "print(mul) # __str__(self) 호출"
   ]
  },
  {
   "cell_type": "code",
   "execution_count": 39,
   "id": "2d8f0970-846c-4fea-8501-88b590df68bc",
   "metadata": {},
   "outputs": [],
   "source": [
    "class Family:\n",
    "    lastname = '이' # 클래스 변수 - 객체 생성 상관없이 접근 가능, self.변수 - 인스턴스 변수(객체 생성시 접근 가능)"
   ]
  },
  {
   "cell_type": "code",
   "execution_count": 40,
   "id": "b8070f8b-4585-41be-81d9-406a425c2c6c",
   "metadata": {},
   "outputs": [],
   "source": [
    "# Family.lastname = \"이\" # 클래스 변수, 정적 변수, 다른 객체가 공유할 목적의 변수"
   ]
  },
  {
   "cell_type": "code",
   "execution_count": 42,
   "id": "eac7ee07-d2ca-4cd3-84c7-08e0cd7f0eaa",
   "metadata": {},
   "outputs": [
    {
     "name": "stdout",
     "output_type": "stream",
     "text": [
      "f1: 김\n",
      "f2: 이\n"
     ]
    }
   ],
   "source": [
    "f1 = Family()\n",
    "f2 = Family()\n",
    "\n",
    "f1.lastname = '김' # 인스턴스 변수(객체 변수)\n",
    "print(\"f1: %s\" %f1.lastname) # f1.lastname : 인스턴스 변수와 헷갈림, 클래스명으로 직접 접근 Family.lastname\n",
    "print(\"f2: %s\" %f2.lastname)"
   ]
  },
  {
   "cell_type": "code",
   "execution_count": 43,
   "id": "30c13c95-d5c0-4398-a615-f035e5ea3154",
   "metadata": {},
   "outputs": [],
   "source": [
    "class Bird:\n",
    "    def fly(self):\n",
    "        raise NotImplementedError"
   ]
  },
  {
   "cell_type": "code",
   "execution_count": 46,
   "id": "590129d3-1fe3-4732-8905-0d1fb4146fd8",
   "metadata": {},
   "outputs": [],
   "source": [
    "class Eagle(Bird):\n",
    "    def fly(self): # 메서드 재정의\n",
    "        print(\"독수리가 아주 빠르게 날아간다!\")"
   ]
  },
  {
   "cell_type": "code",
   "execution_count": 47,
   "id": "c50f37a0-6c52-44fa-92bc-1839020b3237",
   "metadata": {},
   "outputs": [
    {
     "name": "stdout",
     "output_type": "stream",
     "text": [
      "독수리가 아주 빠르게 날아간다!\n"
     ]
    }
   ],
   "source": [
    "e1 = Eagle()\n",
    "e1.fly()"
   ]
  }
 ],
 "metadata": {
  "kernelspec": {
   "display_name": "Python 3 (ipykernel)",
   "language": "python",
   "name": "python3"
  },
  "language_info": {
   "codemirror_mode": {
    "name": "ipython",
    "version": 3
   },
   "file_extension": ".py",
   "mimetype": "text/x-python",
   "name": "python",
   "nbconvert_exporter": "python",
   "pygments_lexer": "ipython3",
   "version": "3.12.7"
  }
 },
 "nbformat": 4,
 "nbformat_minor": 5
}
