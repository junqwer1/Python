{
 "cells": [
  {
   "cell_type": "code",
   "execution_count": 2,
   "id": "45532c35-c5fd-43bb-9d66-074be1aeb802",
   "metadata": {},
   "outputs": [],
   "source": [
    "f = open('D:/data.txt', 'w') # w - 쓰기, 지정된 경로에 파일이 없는 경우 새파일 하나 생성!\n",
    "\n",
    "for i in range(1, 11): # 1 ~ 10 - 10회 반복\n",
    "    f.write(\"%d번 라인\\n\" %i)\n",
    "    \n",
    "\n",
    "f.close()"
   ]
  },
  {
   "cell_type": "code",
   "execution_count": 3,
   "id": "d266c877-b63a-46ce-8ab9-ebea086e01a3",
   "metadata": {},
   "outputs": [
    {
     "name": "stdout",
     "output_type": "stream",
     "text": [
      "1번 라인\n",
      "2번 라인\n",
      "3번 라인\n",
      "4번 라인\n",
      "5번 라인\n",
      "6번 라인\n",
      "7번 라인\n",
      "8번 라인\n",
      "9번 라인\n",
      "10번 라인\n",
      "\n"
     ]
    }
   ],
   "source": [
    "# 파일 읽기\n",
    "f = open('D:/data.txt', 'r') # r - 읽기\n",
    "\n",
    "data = f.read() # 파일 내용 전체 읽기\n",
    "print(data)\n",
    "\n",
    "f.close()"
   ]
  },
  {
   "cell_type": "code",
   "execution_count": 8,
   "id": "eb9413af-37e3-490b-9593-a535c888dd60",
   "metadata": {},
   "outputs": [
    {
     "name": "stdout",
     "output_type": "stream",
     "text": [
      "1번 라인\n",
      "2번 라인\n",
      "3번 라인\n",
      "4번 라인\n",
      "5번 라인\n",
      "6번 라인\n",
      "7번 라인\n",
      "8번 라인\n",
      "9번 라인\n",
      "10번 라인\n"
     ]
    }
   ],
   "source": [
    "# 한줄 한줄 읽기 - readline()\n",
    "f = open('D:/data.txt', \"r\")\n",
    "\n",
    "while True:\n",
    "    line = f.readline()\n",
    "    if not line: break\n",
    "    # print(line, end='') # end의 기본값 \\n\n",
    "    print(line.rstrip())\n",
    "f.close()"
   ]
  },
  {
   "cell_type": "code",
   "execution_count": 9,
   "id": "e6a126ca-9654-4e3e-bec2-6831de36aeb1",
   "metadata": {},
   "outputs": [
    {
     "name": "stdout",
     "output_type": "stream",
     "text": [
      "1번 라인\n",
      "2번 라인\n",
      "3번 라인\n",
      "4번 라인\n",
      "5번 라인\n",
      "6번 라인\n",
      "7번 라인\n",
      "8번 라인\n",
      "9번 라인\n",
      "10번 라인\n"
     ]
    }
   ],
   "source": [
    "# 한꺼번에 읽어 와서 한줄 한줄 리스트로 변환 - readlines()\n",
    "f = open(\"D:/data.txt\", \"r\")\n",
    "\n",
    "lines = f.readlines()\n",
    "for line in lines:\n",
    "    print(line, end=\"\")\n",
    "\n",
    "f.close()"
   ]
  },
  {
   "cell_type": "code",
   "execution_count": 10,
   "id": "8434b5a3-b988-43c7-bc16-a27a58314e89",
   "metadata": {},
   "outputs": [
    {
     "name": "stdout",
     "output_type": "stream",
     "text": [
      "1번 라인\n",
      "2번 라인\n",
      "3번 라인\n",
      "4번 라인\n",
      "5번 라인\n",
      "6번 라인\n",
      "7번 라인\n",
      "8번 라인\n",
      "9번 라인\n",
      "10번 라인\n"
     ]
    }
   ],
   "source": [
    "f = open(\"D:/data.txt\", \"r\")\n",
    "\n",
    "for line in f:\n",
    "    print(line, end=\"\")\n",
    "\n",
    "f.close()"
   ]
  },
  {
   "cell_type": "code",
   "execution_count": 14,
   "id": "ed1bae91-9732-48b3-bd77-730e8a34ba6c",
   "metadata": {},
   "outputs": [],
   "source": [
    "f = open(\"D:/log.txt\", \"a\") # a : append - 텍스트가 계속 끝에 추가\n",
    "f.write(\"로그3\\n\")\n",
    "f.write(\"로그4\\n\")\n",
    "f.close()"
   ]
  },
  {
   "cell_type": "code",
   "execution_count": 15,
   "id": "e4ff794d-6f03-4157-b081-c2524eea3deb",
   "metadata": {},
   "outputs": [],
   "source": [
    "# 자원 해제 자동화 - with 구문\n",
    "with open(\"D:/data2.txt\", \"w\") as f:\n",
    "    f.write(\"테스트 텍스트...땜!\")"
   ]
  }
 ],
 "metadata": {
  "kernelspec": {
   "display_name": "Python 3 (ipykernel)",
   "language": "python",
   "name": "python3"
  },
  "language_info": {
   "codemirror_mode": {
    "name": "ipython",
    "version": 3
   },
   "file_extension": ".py",
   "mimetype": "text/x-python",
   "name": "python",
   "nbconvert_exporter": "python",
   "pygments_lexer": "ipython3",
   "version": "3.12.7"
  }
 },
 "nbformat": 4,
 "nbformat_minor": 5
}
