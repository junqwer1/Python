{
 "cells": [
  {
   "cell_type": "code",
   "execution_count": 1,
   "id": "5370be33-ce85-4d83-90ee-a756d723d95b",
   "metadata": {},
   "outputs": [],
   "source": [
    "a = 10 # 자바의 리터럴 상수 비슷, 재료가 되는 수는 1개의 주소를 가지고 공유\n",
    "b = 10"
   ]
  },
  {
   "cell_type": "code",
   "execution_count": 2,
   "id": "e73ca493-fdef-48f7-8e56-6704878ab247",
   "metadata": {},
   "outputs": [
    {
     "name": "stdout",
     "output_type": "stream",
     "text": [
      "140737178446552 140737178446552\n"
     ]
    }
   ],
   "source": [
    "print(id(a), id(b))"
   ]
  },
  {
   "cell_type": "code",
   "execution_count": 3,
   "id": "5851188b-ffc4-442a-88b0-803c5193616e",
   "metadata": {},
   "outputs": [],
   "source": [
    "a = [1, 2, 3, 4, 5] # a는 참조변수"
   ]
  },
  {
   "cell_type": "code",
   "execution_count": 4,
   "id": "dd8d4457-832d-49d4-bf59-c9c859558d2b",
   "metadata": {},
   "outputs": [],
   "source": [
    "b = a # b는 a가 가지고 있는 주소값이 대입"
   ]
  },
  {
   "cell_type": "code",
   "execution_count": 6,
   "id": "ea107214-799a-4994-a94c-f35812d741d9",
   "metadata": {},
   "outputs": [],
   "source": [
    "b[1] = '둘'"
   ]
  },
  {
   "cell_type": "code",
   "execution_count": 7,
   "id": "9ad46f81-03e2-4fe8-9a72-096b8edc3b72",
   "metadata": {},
   "outputs": [
    {
     "name": "stdout",
     "output_type": "stream",
     "text": [
      "[1, '둘', 3, 4, 5]\n"
     ]
    }
   ],
   "source": [
    "print(b)"
   ]
  },
  {
   "cell_type": "code",
   "execution_count": 8,
   "id": "13e32eca-f7b4-4a01-b5af-5d1c5cd9246d",
   "metadata": {},
   "outputs": [
    {
     "name": "stdout",
     "output_type": "stream",
     "text": [
      "[1, '둘', 3, 4, 5]\n"
     ]
    }
   ],
   "source": [
    "print(a)"
   ]
  },
  {
   "cell_type": "code",
   "execution_count": 9,
   "id": "4a002972-0219-4b28-a6c0-2aa83e42252c",
   "metadata": {},
   "outputs": [
    {
     "name": "stdout",
     "output_type": "stream",
     "text": [
      "2899107274176 2899107274176\n"
     ]
    }
   ],
   "source": [
    "print(id(a), id(b))"
   ]
  },
  {
   "cell_type": "code",
   "execution_count": 11,
   "id": "93a78dfd-414e-4b49-918c-b709ca60f2e5",
   "metadata": {},
   "outputs": [
    {
     "data": {
      "text/plain": [
       "True"
      ]
     },
     "execution_count": 11,
     "metadata": {},
     "output_type": "execute_result"
    }
   ],
   "source": [
    "# a == b # 주소 비교\n",
    "a is b # a, b가 같은 객체를 참조 하는지 체크"
   ]
  },
  {
   "cell_type": "code",
   "execution_count": 12,
   "id": "caf24a7c-9469-41c2-b780-a2bba484752c",
   "metadata": {},
   "outputs": [],
   "source": [
    "a = [1, 2, 3, 4, 5]"
   ]
  },
  {
   "cell_type": "code",
   "execution_count": 13,
   "id": "c51a711e-0893-412b-982f-b1569147aff2",
   "metadata": {},
   "outputs": [],
   "source": [
    "b = a[:] # 전체 값을 복사해서 새로운 리스트 객체"
   ]
  },
  {
   "cell_type": "code",
   "execution_count": 14,
   "id": "824d4223-9970-49f8-8242-bf3bba05eadc",
   "metadata": {},
   "outputs": [],
   "source": [
    "b[1] = '둘'"
   ]
  },
  {
   "cell_type": "code",
   "execution_count": 16,
   "id": "2205e69f-88cd-4f6f-bd75-280b38c594f8",
   "metadata": {},
   "outputs": [
    {
     "name": "stdout",
     "output_type": "stream",
     "text": [
      "[1, 2, 3, 4, 5] [1, '둘', 3, 4, 5] 2899107341184 2899107348224\n"
     ]
    }
   ],
   "source": [
    "print(a, b, id(a), id(b))"
   ]
  },
  {
   "cell_type": "code",
   "execution_count": 17,
   "id": "ce155080-dfc0-456a-b27e-c916823a159a",
   "metadata": {},
   "outputs": [],
   "source": [
    "c = a.copy()  # 전체 값을 복사해서 새로운 리스트 객체"
   ]
  },
  {
   "cell_type": "code",
   "execution_count": 18,
   "id": "c0506de7-2f2b-4d32-9d13-c064a9a334bd",
   "metadata": {},
   "outputs": [],
   "source": [
    "c[2] = '셋'"
   ]
  },
  {
   "cell_type": "code",
   "execution_count": 19,
   "id": "6f2271df-001b-4475-91f9-0e7eb478a850",
   "metadata": {},
   "outputs": [
    {
     "name": "stdout",
     "output_type": "stream",
     "text": [
      "[1, 2, 3, 4, 5] [1, 2, '셋', 4, 5] 2899107341184 2899107402048\n"
     ]
    }
   ],
   "source": [
    "print(a, c, id(a), id(c))"
   ]
  },
  {
   "cell_type": "code",
   "execution_count": 20,
   "id": "bb37971d-c88b-415c-9539-7079d184699b",
   "metadata": {},
   "outputs": [],
   "source": [
    "[a, b] = ['사과', '오렌지']"
   ]
  },
  {
   "cell_type": "code",
   "execution_count": 21,
   "id": "34d26946-c4fd-46ec-a5fe-c8c0b6aeaba1",
   "metadata": {},
   "outputs": [
    {
     "name": "stdout",
     "output_type": "stream",
     "text": [
      "사과 오렌지\n"
     ]
    }
   ],
   "source": [
    "print(a, b)"
   ]
  }
 ],
 "metadata": {
  "kernelspec": {
   "display_name": "Python 3 (ipykernel)",
   "language": "python",
   "name": "python3"
  },
  "language_info": {
   "codemirror_mode": {
    "name": "ipython",
    "version": 3
   },
   "file_extension": ".py",
   "mimetype": "text/x-python",
   "name": "python",
   "nbconvert_exporter": "python",
   "pygments_lexer": "ipython3",
   "version": "3.12.7"
  }
 },
 "nbformat": 4,
 "nbformat_minor": 5
}
