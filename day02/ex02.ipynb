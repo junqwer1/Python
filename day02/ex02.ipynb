{
 "cells": [
  {
   "cell_type": "code",
   "execution_count": 7,
   "id": "19e31862-5b98-4869-99b8-7b8754966739",
   "metadata": {},
   "outputs": [],
   "source": [
    "# a = (1, 2, 3)\n",
    "# a = (1) # 튜플로 인식하는 것이 아니라 숫자 1로 인식\n",
    "a = (1, ) # 숫자 1이라는 값이 1개 있는 튜플"
   ]
  },
  {
   "cell_type": "code",
   "execution_count": 32,
   "id": "c89616a9-d6b3-4c8a-be6a-086a1345cead",
   "metadata": {},
   "outputs": [
    {
     "ename": "SyntaxError",
     "evalue": "invalid syntax (1727421566.py, line 2)",
     "output_type": "error",
     "traceback": [
      "\u001b[1;36m  Cell \u001b[1;32mIn[32], line 2\u001b[1;36m\u001b[0m\n\u001b[1;33m    a[1] ='A' - 변경 불가 리스트 이므로 수정시 예외 발생\u001b[0m\n\u001b[1;37m                   ^\u001b[0m\n\u001b[1;31mSyntaxError\u001b[0m\u001b[1;31m:\u001b[0m invalid syntax\n"
     ]
    }
   ],
   "source": [
    "# a[1]\n",
    "a[1] ='A' - 변경 불가 리스트 이므로 수정시 예외 발생\n",
    "# del a[1]"
   ]
  },
  {
   "cell_type": "code",
   "execution_count": 8,
   "id": "d86f89c0-b75f-48bc-8264-2207e2903089",
   "metadata": {},
   "outputs": [
    {
     "data": {
      "text/plain": [
       "(1,)"
      ]
     },
     "execution_count": 8,
     "metadata": {},
     "output_type": "execute_result"
    }
   ],
   "source": [
    "a"
   ]
  },
  {
   "cell_type": "code",
   "execution_count": 10,
   "id": "a943b23b-e2e6-43e4-8a1d-1f4efc3c8fad",
   "metadata": {},
   "outputs": [
    {
     "data": {
      "text/plain": [
       "tuple"
      ]
     },
     "execution_count": 10,
     "metadata": {},
     "output_type": "execute_result"
    }
   ],
   "source": [
    "# type((1)) # int\n",
    "type((1,)) # tuple"
   ]
  },
  {
   "cell_type": "code",
   "execution_count": 11,
   "id": "363b11d9-5c22-40eb-a01a-710c733e9634",
   "metadata": {},
   "outputs": [],
   "source": [
    "a = 1,2,3,4,5 # tuple로 인식"
   ]
  },
  {
   "cell_type": "code",
   "execution_count": 12,
   "id": "42aa72ac-09bf-401d-afb2-294041f8f813",
   "metadata": {},
   "outputs": [
    {
     "data": {
      "text/plain": [
       "(1, 2, 3, 4, 5)"
      ]
     },
     "execution_count": 12,
     "metadata": {},
     "output_type": "execute_result"
    }
   ],
   "source": [
    "a"
   ]
  },
  {
   "cell_type": "code",
   "execution_count": 13,
   "id": "4e8b15c6-25af-4626-acab-8a9e65c0a482",
   "metadata": {},
   "outputs": [
    {
     "data": {
      "text/plain": [
       "tuple"
      ]
     },
     "execution_count": 13,
     "metadata": {},
     "output_type": "execute_result"
    }
   ],
   "source": [
    "type(a)"
   ]
  },
  {
   "cell_type": "code",
   "execution_count": 14,
   "id": "a7a7c84f-8b24-4c2b-ad67-b73ce9519dc4",
   "metadata": {},
   "outputs": [],
   "source": [
    "a= (1, 2, 3)\n",
    "b= (4, 5, 6)"
   ]
  },
  {
   "cell_type": "code",
   "execution_count": 15,
   "id": "77db85db-7b08-48d0-8c4f-5c435fd0fc2e",
   "metadata": {},
   "outputs": [
    {
     "name": "stdout",
     "output_type": "stream",
     "text": [
      "(1, 2, 3, 4, 5, 6)\n"
     ]
    }
   ],
   "source": [
    "c = a + b\n",
    "print(c)"
   ]
  },
  {
   "cell_type": "code",
   "execution_count": 16,
   "id": "e55c0186-f9b3-47a9-a45d-2468b5d11c28",
   "metadata": {},
   "outputs": [
    {
     "name": "stdout",
     "output_type": "stream",
     "text": [
      "(1, 2, 3, 1, 2, 3, 1, 2, 3)\n"
     ]
    }
   ],
   "source": [
    "d = a * 3\n",
    "print(d)"
   ]
  },
  {
   "cell_type": "code",
   "execution_count": 26,
   "id": "baf69819-7d1d-47c7-923d-7f12030e4972",
   "metadata": {},
   "outputs": [],
   "source": [
    "# a = (\"사과\", \"오렌지\")\n",
    "a= \"사과\", \"오렌지\""
   ]
  },
  {
   "cell_type": "code",
   "execution_count": 27,
   "id": "ae544fe7-e796-46b1-9d24-ad65b0c266af",
   "metadata": {},
   "outputs": [],
   "source": [
    "# (apple, orange) = a\n",
    "apple, orange = a"
   ]
  },
  {
   "cell_type": "code",
   "execution_count": 28,
   "id": "c70e452b-2b9b-47a2-818c-2836d4dbdde1",
   "metadata": {},
   "outputs": [
    {
     "name": "stdout",
     "output_type": "stream",
     "text": [
      "사과 오렌지\n"
     ]
    }
   ],
   "source": [
    "print(apple, orange)"
   ]
  },
  {
   "cell_type": "code",
   "execution_count": 29,
   "id": "06f4aa5a-8b18-4b29-aa7e-acc29ac0f2c0",
   "metadata": {},
   "outputs": [],
   "source": [
    "a = 20\n",
    "b = 10"
   ]
  },
  {
   "cell_type": "code",
   "execution_count": 30,
   "id": "8599b970-a4ec-4e2c-997f-103b6b7c487b",
   "metadata": {},
   "outputs": [],
   "source": [
    "a, b = b, a"
   ]
  },
  {
   "cell_type": "code",
   "execution_count": 31,
   "id": "9b1a52ab-f365-46ba-abc8-addf2862c0c3",
   "metadata": {},
   "outputs": [
    {
     "name": "stdout",
     "output_type": "stream",
     "text": [
      "10 20\n"
     ]
    }
   ],
   "source": [
    "print(a, b)"
   ]
  }
 ],
 "metadata": {
  "kernelspec": {
   "display_name": "Python 3 (ipykernel)",
   "language": "python",
   "name": "python3"
  },
  "language_info": {
   "codemirror_mode": {
    "name": "ipython",
    "version": 3
   },
   "file_extension": ".py",
   "mimetype": "text/x-python",
   "name": "python",
   "nbconvert_exporter": "python",
   "pygments_lexer": "ipython3",
   "version": "3.12.7"
  }
 },
 "nbformat": 4,
 "nbformat_minor": 5
}
