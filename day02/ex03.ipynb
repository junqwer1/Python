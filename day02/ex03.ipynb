{
 "cells": [
  {
   "cell_type": "code",
   "execution_count": 1,
   "id": "7564acb8-1116-4025-a448-0fd98e1e63b3",
   "metadata": {},
   "outputs": [],
   "source": [
    "person = {'name': '이이름', 'age':40}"
   ]
  },
  {
   "cell_type": "code",
   "execution_count": 8,
   "id": "0de69dc5-5271-471d-8b44-bd4e9d7fbd20",
   "metadata": {},
   "outputs": [
    {
     "data": {
      "text/plain": [
       "{'name': '(수정)이이름', 'age': 40}"
      ]
     },
     "execution_count": 8,
     "metadata": {},
     "output_type": "execute_result"
    }
   ],
   "source": [
    "# person['name'] = '(수정)이이름'\n",
    "# person['address'] = '주소'\n",
    "del person['address']\n",
    "person"
   ]
  },
  {
   "cell_type": "code",
   "execution_count": 23,
   "id": "5f09b9be-8d74-4e04-8fcf-207c14deeafa",
   "metadata": {},
   "outputs": [
    {
     "data": {
      "text/plain": [
       "'이이름'"
      ]
     },
     "execution_count": 23,
     "metadata": {},
     "output_type": "execute_result"
    }
   ],
   "source": [
    "person[\"name\"]"
   ]
  },
  {
   "cell_type": "code",
   "execution_count": 3,
   "id": "01bc1eb2-f4cf-4b39-92a7-1c7054755a08",
   "metadata": {},
   "outputs": [
    {
     "data": {
      "text/plain": [
       "dict"
      ]
     },
     "execution_count": 3,
     "metadata": {},
     "output_type": "execute_result"
    }
   ],
   "source": [
    "type(person)"
   ]
  },
  {
   "cell_type": "code",
   "execution_count": 9,
   "id": "16983eb6-0dc6-418c-8a7e-5cdacff9a781",
   "metadata": {},
   "outputs": [],
   "source": [
    "person = { \"name\": \"이이름\"}"
   ]
  },
  {
   "cell_type": "code",
   "execution_count": 12,
   "id": "853ed0eb-ccc4-4b08-9294-e480946c7a52",
   "metadata": {},
   "outputs": [
    {
     "name": "stdout",
     "output_type": "stream",
     "text": [
      "40\n"
     ]
    }
   ],
   "source": [
    "# person['age'] - 예외 발생\n",
    "# person.get('age')\n",
    "age = person.get('age', 40) # 기본값 40\n",
    "print(age)"
   ]
  },
  {
   "cell_type": "code",
   "execution_count": 13,
   "id": "e1a7fb78-ea67-422b-b18b-0d32ba0ec3db",
   "metadata": {},
   "outputs": [],
   "source": [
    "person = {\"name\": \"이이름\", \"age\": 40}"
   ]
  },
  {
   "cell_type": "code",
   "execution_count": 15,
   "id": "36ea5200-1ec7-4ccf-9048-9f127c89862b",
   "metadata": {},
   "outputs": [
    {
     "name": "stdout",
     "output_type": "stream",
     "text": [
      "dict_keys(['name', 'age']) dict_values(['이이름', 40])\n"
     ]
    }
   ],
   "source": [
    "keys = person.keys() # 키 목록 조회\n",
    "values = person.values() # 값 목록 조회\n",
    "print(keys, values)"
   ]
  },
  {
   "cell_type": "code",
   "execution_count": 16,
   "id": "c95e1db9-5f3e-414b-af27-930b2a4d1d69",
   "metadata": {},
   "outputs": [
    {
     "name": "stdout",
     "output_type": "stream",
     "text": [
      "['이이름', 40]\n"
     ]
    }
   ],
   "source": [
    "values2 = list(values)\n",
    "print(values2)"
   ]
  },
  {
   "cell_type": "code",
   "execution_count": 17,
   "id": "5091493a-31e0-45e4-b3d4-b9ac8fd1f63e",
   "metadata": {},
   "outputs": [
    {
     "name": "stdout",
     "output_type": "stream",
     "text": [
      "dict_items([('name', '이이름'), ('age', 40)])\n"
     ]
    }
   ],
   "source": [
    "items = person.items() # 키, 값 쌍\n",
    "print(items)"
   ]
  },
  {
   "cell_type": "code",
   "execution_count": 19,
   "id": "33ecf6bd-0e11-4341-9af5-79b18d89de15",
   "metadata": {},
   "outputs": [
    {
     "name": "stdout",
     "output_type": "stream",
     "text": [
      "name 이이름\n",
      "age 40\n"
     ]
    }
   ],
   "source": [
    "for name, age in items:\n",
    "    print(name, age)"
   ]
  },
  {
   "cell_type": "code",
   "execution_count": 20,
   "id": "1278c989-a9f9-46d7-a680-d7eb46458232",
   "metadata": {},
   "outputs": [
    {
     "data": {
      "text/plain": [
       "True"
      ]
     },
     "execution_count": 20,
     "metadata": {},
     "output_type": "execute_result"
    }
   ],
   "source": [
    "'name' in person"
   ]
  }
 ],
 "metadata": {
  "kernelspec": {
   "display_name": "Python 3 (ipykernel)",
   "language": "python",
   "name": "python3"
  },
  "language_info": {
   "codemirror_mode": {
    "name": "ipython",
    "version": 3
   },
   "file_extension": ".py",
   "mimetype": "text/x-python",
   "name": "python",
   "nbconvert_exporter": "python",
   "pygments_lexer": "ipython3",
   "version": "3.12.7"
  }
 },
 "nbformat": 4,
 "nbformat_minor": 5
}
